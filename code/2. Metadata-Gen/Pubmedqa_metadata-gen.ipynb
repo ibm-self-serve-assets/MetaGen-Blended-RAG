{
 "cells": [
  {
   "cell_type": "markdown",
   "metadata": {},
   "source": [
    "## PubMedQA - Metadata Enrichment using NLP + LLM\n",
    "This notebook demonstrates how to enrich PubMedQA metadata using NLP techniques and Large Language Models (LLMs). The workflow includes:\n",
    "\n",
    "- Loading and exploring the PubMedQA dataset\n",
    "- Labeling and preparing data for analysis\n",
    "- Extracting keywords using BERT-based models\n",
    "- Extracting topics, phrases, synonyms, and acronyms using LLMs (LLAMA3, MIXTRAL)\n",
    "- Saving the enriched metadata for downstream tasks\n",
    "\n",
    "This notebook enriches the PubMedQA dataset by extracting additional metadata using advanced NLP and LLM techniques. The goal is to enhance the dataset for improved downstream analysis and applications in biomedical research."
   ]
  },
  {
   "cell_type": "code",
   "execution_count": 1,
   "metadata": {},
   "outputs": [
    {
     "name": "stderr",
     "output_type": "stream",
     "text": [
      "/home/magma/.local/lib/python3.10/site-packages/sentence_transformers/cross_encoder/CrossEncoder.py:13: TqdmExperimentalWarning: Using `tqdm.autonotebook.tqdm` in notebook mode. Use `tqdm.tqdm` instead to force console mode (e.g. in jupyter console)\n",
      "  from tqdm.autonotebook import tqdm, trange\n"
     ]
    }
   ],
   "source": [
    "import os\n",
    "import re\n",
    "from datetime import date\n",
    "import pandas as pd\n",
    "import json\n",
    "from pathlib import Path\n",
    "from sklearn.feature_extraction.text import CountVectorizer\n",
    "from keybert import KeyBERT\n",
    "import numpy as np"
   ]
  },
  {
   "cell_type": "code",
   "execution_count": 4,
   "metadata": {},
   "outputs": [
    {
     "name": "stdout",
     "output_type": "stream",
     "text": [
      "https://us-south.ml.cloud.ibm.com\n"
     ]
    }
   ],
   "source": [
    "from dotenv import load_dotenv\n",
    "\n",
    "# Path to your .env file\n",
    "env_path = \"../.env\"  # Change path if needed\n",
    "\n",
    "# Load environment variables from .env\n",
    "load_dotenv(dotenv_path=env_path)\n",
    "# Access the environment variables\n",
    "watsonx_url = os.getenv(\"watsonx_url\")\n",
    "watsonx_apikey = os.getenv(\"watsonx_apikey\")\n",
    "watsonx_projectID = os.getenv(\"watsonx_projectID\")\n",
    "\n",
    "print(watsonx_url)"
   ]
  },
  {
   "cell_type": "code",
   "execution_count": 2,
   "metadata": {},
   "outputs": [],
   "source": [
    "from datasets import load_dataset\n",
    "import pandas as pd\n",
    "ds = load_dataset(\"qiaojin/PubMedQA\", \"pqa_labeled\")"
   ]
  },
  {
   "cell_type": "code",
   "execution_count": null,
   "metadata": {},
   "outputs": [
    {
     "data": {
      "text/html": [
       "<div>\n",
       "<style scoped>\n",
       "    .dataframe tbody tr th:only-of-type {\n",
       "        vertical-align: middle;\n",
       "    }\n",
       "\n",
       "    .dataframe tbody tr th {\n",
       "        vertical-align: top;\n",
       "    }\n",
       "\n",
       "    .dataframe thead th {\n",
       "        text-align: right;\n",
       "    }\n",
       "</style>\n",
       "<table border=\"1\" class=\"dataframe\">\n",
       "  <thead>\n",
       "    <tr style=\"text-align: right;\">\n",
       "      <th></th>\n",
       "      <th>pubid</th>\n",
       "      <th>question</th>\n",
       "      <th>context</th>\n",
       "      <th>long_answer</th>\n",
       "      <th>final_decision</th>\n",
       "    </tr>\n",
       "  </thead>\n",
       "  <tbody>\n",
       "    <tr>\n",
       "      <th>0</th>\n",
       "      <td>21645374</td>\n",
       "      <td>Do mitochondria play a role in remodelling lac...</td>\n",
       "      <td>{'contexts': ['Programmed cell death (PCD) is ...</td>\n",
       "      <td>Results depicted mitochondrial dynamics in viv...</td>\n",
       "      <td>yes</td>\n",
       "    </tr>\n",
       "    <tr>\n",
       "      <th>1</th>\n",
       "      <td>16418930</td>\n",
       "      <td>Landolt C and snellen e acuity: differences in...</td>\n",
       "      <td>{'contexts': ['Assessment of visual acuity dep...</td>\n",
       "      <td>Using the charts described, there was only a s...</td>\n",
       "      <td>no</td>\n",
       "    </tr>\n",
       "    <tr>\n",
       "      <th>2</th>\n",
       "      <td>9488747</td>\n",
       "      <td>Syncope during bathing in infants, a pediatric...</td>\n",
       "      <td>{'contexts': ['Apparent life-threatening event...</td>\n",
       "      <td>\"Aquagenic maladies\" could be a pediatric form...</td>\n",
       "      <td>yes</td>\n",
       "    </tr>\n",
       "    <tr>\n",
       "      <th>3</th>\n",
       "      <td>17208539</td>\n",
       "      <td>Are the long-term results of the transanal pul...</td>\n",
       "      <td>{'contexts': ['The transanal endorectal pull-t...</td>\n",
       "      <td>Our long-term study showed significantly bette...</td>\n",
       "      <td>no</td>\n",
       "    </tr>\n",
       "    <tr>\n",
       "      <th>4</th>\n",
       "      <td>10808977</td>\n",
       "      <td>Can tailored interventions increase mammograph...</td>\n",
       "      <td>{'contexts': ['Telephone counseling and tailor...</td>\n",
       "      <td>The effects of the intervention were most pron...</td>\n",
       "      <td>yes</td>\n",
       "    </tr>\n",
       "  </tbody>\n",
       "</table>\n",
       "</div>"
      ],
      "text/plain": [
       "      pubid                                           question  \\\n",
       "0  21645374  Do mitochondria play a role in remodelling lac...   \n",
       "1  16418930  Landolt C and snellen e acuity: differences in...   \n",
       "2   9488747  Syncope during bathing in infants, a pediatric...   \n",
       "3  17208539  Are the long-term results of the transanal pul...   \n",
       "4  10808977  Can tailored interventions increase mammograph...   \n",
       "\n",
       "                                             context  \\\n",
       "0  {'contexts': ['Programmed cell death (PCD) is ...   \n",
       "1  {'contexts': ['Assessment of visual acuity dep...   \n",
       "2  {'contexts': ['Apparent life-threatening event...   \n",
       "3  {'contexts': ['The transanal endorectal pull-t...   \n",
       "4  {'contexts': ['Telephone counseling and tailor...   \n",
       "\n",
       "                                         long_answer final_decision  \n",
       "0  Results depicted mitochondrial dynamics in viv...            yes  \n",
       "1  Using the charts described, there was only a s...             no  \n",
       "2  \"Aquagenic maladies\" could be a pediatric form...            yes  \n",
       "3  Our long-term study showed significantly bette...             no  \n",
       "4  The effects of the intervention were most pron...            yes  "
      ]
     },
     "execution_count": 3,
     "metadata": {},
     "output_type": "execute_result"
    }
   ],
   "source": [
    "df_train = pd.DataFrame(ds['train'])\n",
    "df_train.head()"
   ]
  },
  {
   "cell_type": "code",
   "execution_count": 4,
   "metadata": {},
   "outputs": [
    {
     "data": {
      "text/plain": [
       "1000"
      ]
     },
     "execution_count": 4,
     "metadata": {},
     "output_type": "execute_result"
    }
   ],
   "source": [
    "len(df_train)"
   ]
  },
  {
   "cell_type": "code",
   "execution_count": 5,
   "metadata": {},
   "outputs": [],
   "source": [
    "## Custom_label\n",
    "df_train['labelled'] = \"Yes\""
   ]
  },
  {
   "cell_type": "code",
   "execution_count": 6,
   "metadata": {},
   "outputs": [],
   "source": [
    "dict_data =df_train['context'][0]"
   ]
  },
  {
   "cell_type": "code",
   "execution_count": 7,
   "metadata": {},
   "outputs": [
    {
     "data": {
      "text/plain": [
       "{'contexts': ['Programmed cell death (PCD) is the regulated death of cells within an organism. The lace plant (Aponogeton madagascariensis) produces perforations in its leaves through PCD. The leaves of the plant consist of a latticework of longitudinal and transverse veins enclosing areoles. PCD occurs in the cells at the center of these areoles and progresses outwards, stopping approximately five cells from the vasculature. The role of mitochondria during PCD has been recognized in animals; however, it has been less studied during PCD in plants.',\n",
       "  'The following paper elucidates the role of mitochondrial dynamics during developmentally regulated PCD in vivo in A. madagascariensis. A single areole within a window stage leaf (PCD is occurring) was divided into three areas based on the progression of PCD; cells that will not undergo PCD (NPCD), cells in early stages of PCD (EPCD), and cells in late stages of PCD (LPCD). Window stage leaves were stained with the mitochondrial dye MitoTracker Red CMXRos and examined. Mitochondrial dynamics were delineated into four categories (M1-M4) based on characteristics including distribution, motility, and membrane potential (ΔΨm). A TUNEL assay showed fragmented nDNA in a gradient over these mitochondrial stages. Chloroplasts and transvacuolar strands were also examined using live cell imaging. The possible importance of mitochondrial permeability transition pore (PTP) formation during PCD was indirectly examined via in vivo cyclosporine A (CsA) treatment. This treatment resulted in lace plant leaves with a significantly lower number of perforations compared to controls, and that displayed mitochondrial dynamics similar to that of non-PCD cells.'],\n",
       " 'labels': ['BACKGROUND', 'RESULTS'],\n",
       " 'meshes': ['Alismataceae',\n",
       "  'Apoptosis',\n",
       "  'Cell Differentiation',\n",
       "  'Mitochondria',\n",
       "  'Plant Leaves'],\n",
       " 'reasoning_required_pred': ['y', 'e', 's'],\n",
       " 'reasoning_free_pred': ['y', 'e', 's']}"
      ]
     },
     "execution_count": 7,
     "metadata": {},
     "output_type": "execute_result"
    }
   ],
   "source": [
    "dict_data"
   ]
  },
  {
   "cell_type": "markdown",
   "metadata": {},
   "source": [
    "## Distribution of final_decision"
   ]
  },
  {
   "cell_type": "code",
   "execution_count": 7,
   "metadata": {},
   "outputs": [
    {
     "data": {
      "text/plain": [
       "final_decision\n",
       "yes      552\n",
       "no       338\n",
       "maybe    110\n",
       "Name: count, dtype: int64"
      ]
     },
     "execution_count": 7,
     "metadata": {},
     "output_type": "execute_result"
    }
   ],
   "source": [
    "df_train['final_decision'].value_counts()"
   ]
  },
  {
   "cell_type": "code",
   "execution_count": 10,
   "metadata": {},
   "outputs": [],
   "source": [
    "unlabbeld = load_dataset(\"qiaojin/PubMedQA\", \"pqa_unlabeled\")"
   ]
  },
  {
   "cell_type": "code",
   "execution_count": 11,
   "metadata": {},
   "outputs": [
    {
     "data": {
      "text/html": [
       "<div>\n",
       "<style scoped>\n",
       "    .dataframe tbody tr th:only-of-type {\n",
       "        vertical-align: middle;\n",
       "    }\n",
       "\n",
       "    .dataframe tbody tr th {\n",
       "        vertical-align: top;\n",
       "    }\n",
       "\n",
       "    .dataframe thead th {\n",
       "        text-align: right;\n",
       "    }\n",
       "</style>\n",
       "<table border=\"1\" class=\"dataframe\">\n",
       "  <thead>\n",
       "    <tr style=\"text-align: right;\">\n",
       "      <th></th>\n",
       "      <th>pubid</th>\n",
       "      <th>question</th>\n",
       "      <th>context</th>\n",
       "      <th>long_answer</th>\n",
       "    </tr>\n",
       "  </thead>\n",
       "  <tbody>\n",
       "    <tr>\n",
       "      <th>0</th>\n",
       "      <td>14499029</td>\n",
       "      <td>Is naturopathy as effective as conventional th...</td>\n",
       "      <td>{'contexts': ['Although the use of alternative...</td>\n",
       "      <td>Naturopathy appears to be an effective alterna...</td>\n",
       "    </tr>\n",
       "    <tr>\n",
       "      <th>1</th>\n",
       "      <td>14499049</td>\n",
       "      <td>Can randomised trials rely on existing electro...</td>\n",
       "      <td>{'contexts': ['To estimate the feasibility, ut...</td>\n",
       "      <td>Routine data have the potential to support hea...</td>\n",
       "    </tr>\n",
       "    <tr>\n",
       "      <th>2</th>\n",
       "      <td>14499672</td>\n",
       "      <td>Is laparoscopic radical prostatectomy better t...</td>\n",
       "      <td>{'contexts': ['To compare morbidity in two gro...</td>\n",
       "      <td>The results of our non-randomized study show t...</td>\n",
       "    </tr>\n",
       "    <tr>\n",
       "      <th>3</th>\n",
       "      <td>14499773</td>\n",
       "      <td>Does bacterial gastroenteritis predispose peop...</td>\n",
       "      <td>{'contexts': ['Irritable bowel syndrome (IBS) ...</td>\n",
       "      <td>Symptoms consistent with IBS and functional di...</td>\n",
       "    </tr>\n",
       "    <tr>\n",
       "      <th>4</th>\n",
       "      <td>14499777</td>\n",
       "      <td>Is early colonoscopy after admission for acute...</td>\n",
       "      <td>{'contexts': ['Urgent colonoscopy has been pro...</td>\n",
       "      <td>No significant association is apparent between...</td>\n",
       "    </tr>\n",
       "  </tbody>\n",
       "</table>\n",
       "</div>"
      ],
      "text/plain": [
       "      pubid                                           question  \\\n",
       "0  14499029  Is naturopathy as effective as conventional th...   \n",
       "1  14499049  Can randomised trials rely on existing electro...   \n",
       "2  14499672  Is laparoscopic radical prostatectomy better t...   \n",
       "3  14499773  Does bacterial gastroenteritis predispose peop...   \n",
       "4  14499777  Is early colonoscopy after admission for acute...   \n",
       "\n",
       "                                             context  \\\n",
       "0  {'contexts': ['Although the use of alternative...   \n",
       "1  {'contexts': ['To estimate the feasibility, ut...   \n",
       "2  {'contexts': ['To compare morbidity in two gro...   \n",
       "3  {'contexts': ['Irritable bowel syndrome (IBS) ...   \n",
       "4  {'contexts': ['Urgent colonoscopy has been pro...   \n",
       "\n",
       "                                         long_answer  \n",
       "0  Naturopathy appears to be an effective alterna...  \n",
       "1  Routine data have the potential to support hea...  \n",
       "2  The results of our non-randomized study show t...  \n",
       "3  Symptoms consistent with IBS and functional di...  \n",
       "4  No significant association is apparent between...  "
      ]
     },
     "execution_count": 11,
     "metadata": {},
     "output_type": "execute_result"
    }
   ],
   "source": [
    "df_unlabelled = pd.DataFrame(unlabbeld['train'])\n",
    "df_unlabelled.head()"
   ]
  },
  {
   "cell_type": "code",
   "execution_count": null,
   "metadata": {},
   "outputs": [],
   "source": [
    "df_unlabelled['context'][0]"
   ]
  },
  {
   "cell_type": "code",
   "execution_count": null,
   "metadata": {},
   "outputs": [],
   "source": [
    "df_unlabelled['labelled'] = \"No\""
   ]
  },
  {
   "cell_type": "code",
   "execution_count": 12,
   "metadata": {},
   "outputs": [
    {
     "data": {
      "text/plain": [
       "(61249, 4)"
      ]
     },
     "execution_count": 12,
     "metadata": {},
     "output_type": "execute_result"
    }
   ],
   "source": [
    "df_unlabelled.shape"
   ]
  },
  {
   "cell_type": "markdown",
   "metadata": {},
   "source": [
    "## Keyword Extraction using BERT Model"
   ]
  },
  {
   "cell_type": "code",
   "execution_count": null,
   "metadata": {},
   "outputs": [],
   "source": [
    "kw_model = KeyBERT()\n",
    "def extract_keyphrases(text, top_n=10, ngram_range=(1, 3)):\n",
    "    vectorizer = CountVectorizer(ngram_range=ngram_range, stop_words='english').fit([text])\n",
    "    candidate_phrases = vectorizer.get_feature_names_out()\n",
    "    keywords = kw_model.extract_keywords(text, keyphrase_ngram_range=ngram_range, stop_words='english', use_mmr=True, candidates=candidate_phrases, top_n=top_n, diversity=0.9)\n",
    "    keys = [key for key, _ in keywords]\n",
    "    return keys"
   ]
  },
  {
   "cell_type": "markdown",
   "metadata": {},
   "source": [
    "## Topic , phrases and synonyms extraction using LLM (LLAMA3)"
   ]
  },
  {
   "cell_type": "code",
   "execution_count": null,
   "metadata": {},
   "outputs": [],
   "source": [
    "from ibm_watson_machine_learning.foundation_models import Model\n",
    "from ibm_watson_machine_learning.metanames import GenTextParamsMetaNames as GenParams\n",
    "project_id=''\n",
    "# another cred\n",
    "wml_credentials = {\n",
    "    \"url\": watsonx_url,\n",
    "    \"apikey\": watsonx_apikey,\n",
    "    \"project_id\": watsonx_projectID,\n",
    "}\n",
    "\n",
    "def build_prompt(context,model_id=\"MIXTRAL\"):\n",
    "    \n",
    "    formatted_prompt=\"\"\n",
    "\n",
    "    SYSTEM_PROMPT = \"\"\"You are a helpful, respectful and honest assistant. Always answer as helpfully as possible, while being safe. Your answers should not include any harmful, unethical, racist, sexist, toxic, dangerous, or illegal content.\n",
    "                        If you don't know the answer to a question, don't hallucinate and share false information.\"\"\"\n",
    "\n",
    "    USER_PROMPT = \"\"\" You are a medical expert \n",
    "    Extract key topics, important phrases, synonyms, and acronyms from the given text: '{context}' which has special meaning in the medical. \n",
    "    Don't include any other infromatuion which is not available in the context. Provide the output only in valid JSON format with the valid keys like topics, phrases, synonyms and achronyms.\n",
    "    \"\"\"\n",
    "\n",
    "    LLAMA3_PROMPT= \"\"\"\n",
    "    <|begin_of_text|><|start_header_id|>system<|end_header_id|>\n",
    "    {system_prompt}<|eot_id|><|start_header_id|>user<|end_header_id|>\n",
    "    {user_prompt}<|eot_id|><|start_header_id|>assistant<|end_header_id|>\n",
    "    Answer Based on the Provided Context: \n",
    "    \"\"\"\n",
    "\n",
    "    MIXTRAL_PROMPT = \"\"\"[INST]\n",
    "    [ROLE]\n",
    "    {system_prompt}\n",
    "    [/ROLE]\n",
    "    [USER_INSTRUCTIONS]\n",
    "    {user_prompt}\n",
    "    [/USER_INSTRUCTIONS]\n",
    "\n",
    "    Answer Based on the Provided Context:\n",
    "    [/INST]\"\"\"\n",
    "\n",
    "    user_prompt = USER_PROMPT.format(context=context)\n",
    "    if  model_id == \"MIXTRAL\":\n",
    "        formatted_prompt = MIXTRAL_PROMPT.format(system_prompt=SYSTEM_PROMPT,user_prompt=user_prompt)\n",
    "    elif model_id == \"LLAMA3\":\n",
    "        formatted_prompt = LLAMA3_PROMPT.format(system_prompt=SYSTEM_PROMPT,user_prompt=user_prompt)\n",
    "    \n",
    "    return formatted_prompt\n",
    "      \n",
    "\n",
    "def send_to_watsonxai(prompts,\n",
    "                    model_id=\"MIXTRAL\",\n",
    "                    decoding_method=\"greedy\",\n",
    "                    max_new_tokens=2000,\n",
    "                    min_new_tokens=2,\n",
    "                    temperature=1.0,\n",
    "                    repetition_penalty=1.0\n",
    "                    ):\n",
    "    if  model_id == \"MIXTRAL\":\n",
    "         model_name = \"mistralai/mistral-large\"\n",
    "    elif model_id == \"LLAMA3\":\n",
    "         model_name=\"meta-llama/llama-3-3-70b-instruct\"\n",
    "    # Instantiate parameters for text generation\n",
    "    model_params = {\n",
    "        GenParams.DECODING_METHOD: decoding_method,\n",
    "        GenParams.MIN_NEW_TOKENS: min_new_tokens,\n",
    "        GenParams.MAX_NEW_TOKENS: max_new_tokens,\n",
    "        #GenParams.RANDOM_SEED: 42,\n",
    "        GenParams.TEMPERATURE: temperature,\n",
    "        GenParams.REPETITION_PENALTY: repetition_penalty,\n",
    "    }\n",
    "    # Instantiate a model proxy object to send your requests\n",
    "    model = Model(\n",
    "        model_id=model_name,\n",
    "        params=model_params,\n",
    "        credentials=wml_credentials,\n",
    "        project_id=watsonx_projectID)\n",
    "\n",
    "    print(\"Model used ---\",model.model_id)\n",
    "    response=model.generate_text(prompts)\n",
    "    # print(response)\n",
    "    return response\n",
    "\n",
    "def get_title(story):\n",
    "    model_name=\"LLAMA3\"\n",
    "    llm_input=build_prompt(story,model_name)\n",
    "    llm_response=send_to_watsonxai(llm_input,model_name)\n",
    "    return llm_response"
   ]
  },
  {
   "cell_type": "code",
   "execution_count": null,
   "metadata": {},
   "outputs": [],
   "source": [
    "index_doc =[]\n",
    "for index, row in df_unlabelled.iterrows():\n",
    "    print(\"Processing index-----\",index)\n",
    "    pub_id = row['pubid']\n",
    "    id = \"p\"+ str(pub_id)\n",
    "    contexts = row['context']['contexts']\n",
    "    lables = row['context']['labels']\n",
    "    meshes =row['context']['meshes']\n",
    "    context_str =''\n",
    "    for context in contexts:\n",
    "        context_str += context\n",
    "    #passage_embedding = model.encode(context_str)\n",
    "    keywords = extract_keyphrases(context_str)\n",
    "    topics_res = get_title(contexts)\n",
    "    print(topics_res)\n",
    "    try:\n",
    "        data = json.loads(topics_res)\n",
    "        # Extract values\n",
    "        topics = data.get(\"topics\", [])\n",
    "        phrases = data.get(\"phrases\", [])\n",
    "        synonyms = data.get(\"synonyms\", {})\n",
    "        acronyms = data.get(\"acronyms\", {})\n",
    "    except:\n",
    "        topics = topics_res\n",
    "        phrases = topics_res\n",
    "        synonyms = topics_res\n",
    "        acronyms = topics_res\n",
    "    doc ={\n",
    "            \"id\": \"\"+id+\"\",\n",
    "            \"pubid\":pub_id,\n",
    "            \"contexts\": contexts,\n",
    "            \"labels\": lables,\n",
    "            \"meshes\":meshes,\n",
    "            \"long_answer\": row['long_answer'],\n",
    "            \"labelled\":row['labelled'],\n",
    "            \"keywords\": keywords,\n",
    "            \"topics\": topics,\n",
    "            \"phrases\": phrases,\n",
    "            \"synonyms\": synonyms,\n",
    "            \"achronym\": acronyms,\n",
    "            }\n",
    "    index_doc.append(doc)"
   ]
  },
  {
   "cell_type": "code",
   "execution_count": null,
   "metadata": {},
   "outputs": [],
   "source": [
    "## To save the all metadata_gen files\n",
    "with open(\"pubmedqa_index_metadata.json\", \"w\") as f:\n",
    "    json.dump(index_doc, f, indent=4)  # `indent=4` makes it more readable"
   ]
  }
 ],
 "metadata": {
  "kernelspec": {
   "display_name": "magma-juniper",
   "language": "python",
   "name": "python3"
  },
  "language_info": {
   "codemirror_mode": {
    "name": "ipython",
    "version": 3
   },
   "file_extension": ".py",
   "mimetype": "text/x-python",
   "name": "python",
   "nbconvert_exporter": "python",
   "pygments_lexer": "ipython3",
   "version": "3.10.14"
  }
 },
 "nbformat": 4,
 "nbformat_minor": 2
}
