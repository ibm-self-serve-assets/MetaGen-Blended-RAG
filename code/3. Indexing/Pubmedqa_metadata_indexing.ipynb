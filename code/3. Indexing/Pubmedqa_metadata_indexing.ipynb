{
 "cells": [
  {
   "cell_type": "markdown",
   "metadata": {},
   "source": [
    "## PubMedQA - Metadata Indexing\n",
    "This notebook demonstrates the process of indexing PubMedQA into Elasticsearch for advanced search and retrieval. The workflow includes:\n",
    "\n",
    "- Loading and exploring the PubMedQA dataset\n",
    "- Data preprocessing and deduplication\n",
    "- Creating Elasticsearch indices with custom mappings for BM25 and KNN search\n",
    "- Generating dense vector embeddings using Sentence Transformers\n",
    "- Indexing enriched metadata into Elasticsearch for both BM25 and KNN retrieval\n",
    "\n",
    "The notebook is structured with clear sections for each step, including code, explanations, and output. Please ensure you have the necessary dependencies and access to an Elasticsearch instance before running the indexing steps."
   ]
  },
  {
   "cell_type": "code",
   "execution_count": 1,
   "metadata": {},
   "outputs": [],
   "source": [
    "from datetime import date\n",
    "from datasets import load_dataset\n",
    "import pandas as pd\n",
    "from pathlib import Path\n",
    "import warnings\n",
    "warnings.filterwarnings('ignore')\n",
    "from elasticsearch import Elasticsearch\n",
    "from elasticsearch.exceptions import RequestError\n",
    "import numpy as np\n",
    "from elasticsearch import helpers,exceptions, RequestError"
   ]
  },
  {
   "cell_type": "code",
   "execution_count": null,
   "metadata": {},
   "outputs": [],
   "source": [
    "ds = load_dataset(\"qiaojin/PubMedQA\", \"pqa_labeled\")"
   ]
  },
  {
   "cell_type": "code",
   "execution_count": null,
   "metadata": {},
   "outputs": [
    {
     "data": {
      "text/html": [
       "<div>\n",
       "<style scoped>\n",
       "    .dataframe tbody tr th:only-of-type {\n",
       "        vertical-align: middle;\n",
       "    }\n",
       "\n",
       "    .dataframe tbody tr th {\n",
       "        vertical-align: top;\n",
       "    }\n",
       "\n",
       "    .dataframe thead th {\n",
       "        text-align: right;\n",
       "    }\n",
       "</style>\n",
       "<table border=\"1\" class=\"dataframe\">\n",
       "  <thead>\n",
       "    <tr style=\"text-align: right;\">\n",
       "      <th></th>\n",
       "      <th>pubid</th>\n",
       "      <th>question</th>\n",
       "      <th>context</th>\n",
       "      <th>long_answer</th>\n",
       "      <th>final_decision</th>\n",
       "    </tr>\n",
       "  </thead>\n",
       "  <tbody>\n",
       "    <tr>\n",
       "      <th>0</th>\n",
       "      <td>21645374</td>\n",
       "      <td>Do mitochondria play a role in remodelling lac...</td>\n",
       "      <td>{'contexts': ['Programmed cell death (PCD) is ...</td>\n",
       "      <td>Results depicted mitochondrial dynamics in viv...</td>\n",
       "      <td>yes</td>\n",
       "    </tr>\n",
       "    <tr>\n",
       "      <th>1</th>\n",
       "      <td>16418930</td>\n",
       "      <td>Landolt C and snellen e acuity: differences in...</td>\n",
       "      <td>{'contexts': ['Assessment of visual acuity dep...</td>\n",
       "      <td>Using the charts described, there was only a s...</td>\n",
       "      <td>no</td>\n",
       "    </tr>\n",
       "    <tr>\n",
       "      <th>2</th>\n",
       "      <td>9488747</td>\n",
       "      <td>Syncope during bathing in infants, a pediatric...</td>\n",
       "      <td>{'contexts': ['Apparent life-threatening event...</td>\n",
       "      <td>\"Aquagenic maladies\" could be a pediatric form...</td>\n",
       "      <td>yes</td>\n",
       "    </tr>\n",
       "    <tr>\n",
       "      <th>3</th>\n",
       "      <td>17208539</td>\n",
       "      <td>Are the long-term results of the transanal pul...</td>\n",
       "      <td>{'contexts': ['The transanal endorectal pull-t...</td>\n",
       "      <td>Our long-term study showed significantly bette...</td>\n",
       "      <td>no</td>\n",
       "    </tr>\n",
       "    <tr>\n",
       "      <th>4</th>\n",
       "      <td>10808977</td>\n",
       "      <td>Can tailored interventions increase mammograph...</td>\n",
       "      <td>{'contexts': ['Telephone counseling and tailor...</td>\n",
       "      <td>The effects of the intervention were most pron...</td>\n",
       "      <td>yes</td>\n",
       "    </tr>\n",
       "  </tbody>\n",
       "</table>\n",
       "</div>"
      ],
      "text/plain": [
       "      pubid                                           question  \\\n",
       "0  21645374  Do mitochondria play a role in remodelling lac...   \n",
       "1  16418930  Landolt C and snellen e acuity: differences in...   \n",
       "2   9488747  Syncope during bathing in infants, a pediatric...   \n",
       "3  17208539  Are the long-term results of the transanal pul...   \n",
       "4  10808977  Can tailored interventions increase mammograph...   \n",
       "\n",
       "                                             context  \\\n",
       "0  {'contexts': ['Programmed cell death (PCD) is ...   \n",
       "1  {'contexts': ['Assessment of visual acuity dep...   \n",
       "2  {'contexts': ['Apparent life-threatening event...   \n",
       "3  {'contexts': ['The transanal endorectal pull-t...   \n",
       "4  {'contexts': ['Telephone counseling and tailor...   \n",
       "\n",
       "                                         long_answer final_decision  \n",
       "0  Results depicted mitochondrial dynamics in viv...            yes  \n",
       "1  Using the charts described, there was only a s...             no  \n",
       "2  \"Aquagenic maladies\" could be a pediatric form...            yes  \n",
       "3  Our long-term study showed significantly bette...             no  \n",
       "4  The effects of the intervention were most pron...            yes  "
      ]
     },
     "execution_count": 3,
     "metadata": {},
     "output_type": "execute_result"
    }
   ],
   "source": [
    "df_train = pd.DataFrame(ds['train'])\n",
    "df_train.head()"
   ]
  },
  {
   "cell_type": "code",
   "execution_count": 4,
   "metadata": {},
   "outputs": [
    {
     "data": {
      "text/plain": [
       "1000"
      ]
     },
     "execution_count": 4,
     "metadata": {},
     "output_type": "execute_result"
    }
   ],
   "source": [
    "len(df_train)"
   ]
  },
  {
   "cell_type": "code",
   "execution_count": 5,
   "metadata": {},
   "outputs": [],
   "source": [
    "## Custom_label\n",
    "df_train['labelled'] = \"Yes\""
   ]
  },
  {
   "cell_type": "code",
   "execution_count": 6,
   "metadata": {},
   "outputs": [
    {
     "data": {
      "text/html": [
       "<div>\n",
       "<style scoped>\n",
       "    .dataframe tbody tr th:only-of-type {\n",
       "        vertical-align: middle;\n",
       "    }\n",
       "\n",
       "    .dataframe tbody tr th {\n",
       "        vertical-align: top;\n",
       "    }\n",
       "\n",
       "    .dataframe thead th {\n",
       "        text-align: right;\n",
       "    }\n",
       "</style>\n",
       "<table border=\"1\" class=\"dataframe\">\n",
       "  <thead>\n",
       "    <tr style=\"text-align: right;\">\n",
       "      <th></th>\n",
       "      <th>pubid</th>\n",
       "      <th>question</th>\n",
       "      <th>context</th>\n",
       "      <th>long_answer</th>\n",
       "      <th>final_decision</th>\n",
       "      <th>labelled</th>\n",
       "    </tr>\n",
       "  </thead>\n",
       "  <tbody>\n",
       "    <tr>\n",
       "      <th>0</th>\n",
       "      <td>21645374</td>\n",
       "      <td>Do mitochondria play a role in remodelling lac...</td>\n",
       "      <td>{'contexts': ['Programmed cell death (PCD) is ...</td>\n",
       "      <td>Results depicted mitochondrial dynamics in viv...</td>\n",
       "      <td>yes</td>\n",
       "      <td>Yes</td>\n",
       "    </tr>\n",
       "    <tr>\n",
       "      <th>1</th>\n",
       "      <td>16418930</td>\n",
       "      <td>Landolt C and snellen e acuity: differences in...</td>\n",
       "      <td>{'contexts': ['Assessment of visual acuity dep...</td>\n",
       "      <td>Using the charts described, there was only a s...</td>\n",
       "      <td>no</td>\n",
       "      <td>Yes</td>\n",
       "    </tr>\n",
       "    <tr>\n",
       "      <th>2</th>\n",
       "      <td>9488747</td>\n",
       "      <td>Syncope during bathing in infants, a pediatric...</td>\n",
       "      <td>{'contexts': ['Apparent life-threatening event...</td>\n",
       "      <td>\"Aquagenic maladies\" could be a pediatric form...</td>\n",
       "      <td>yes</td>\n",
       "      <td>Yes</td>\n",
       "    </tr>\n",
       "    <tr>\n",
       "      <th>3</th>\n",
       "      <td>17208539</td>\n",
       "      <td>Are the long-term results of the transanal pul...</td>\n",
       "      <td>{'contexts': ['The transanal endorectal pull-t...</td>\n",
       "      <td>Our long-term study showed significantly bette...</td>\n",
       "      <td>no</td>\n",
       "      <td>Yes</td>\n",
       "    </tr>\n",
       "    <tr>\n",
       "      <th>4</th>\n",
       "      <td>10808977</td>\n",
       "      <td>Can tailored interventions increase mammograph...</td>\n",
       "      <td>{'contexts': ['Telephone counseling and tailor...</td>\n",
       "      <td>The effects of the intervention were most pron...</td>\n",
       "      <td>yes</td>\n",
       "      <td>Yes</td>\n",
       "    </tr>\n",
       "  </tbody>\n",
       "</table>\n",
       "</div>"
      ],
      "text/plain": [
       "      pubid                                           question  \\\n",
       "0  21645374  Do mitochondria play a role in remodelling lac...   \n",
       "1  16418930  Landolt C and snellen e acuity: differences in...   \n",
       "2   9488747  Syncope during bathing in infants, a pediatric...   \n",
       "3  17208539  Are the long-term results of the transanal pul...   \n",
       "4  10808977  Can tailored interventions increase mammograph...   \n",
       "\n",
       "                                             context  \\\n",
       "0  {'contexts': ['Programmed cell death (PCD) is ...   \n",
       "1  {'contexts': ['Assessment of visual acuity dep...   \n",
       "2  {'contexts': ['Apparent life-threatening event...   \n",
       "3  {'contexts': ['The transanal endorectal pull-t...   \n",
       "4  {'contexts': ['Telephone counseling and tailor...   \n",
       "\n",
       "                                         long_answer final_decision labelled  \n",
       "0  Results depicted mitochondrial dynamics in viv...            yes      Yes  \n",
       "1  Using the charts described, there was only a s...             no      Yes  \n",
       "2  \"Aquagenic maladies\" could be a pediatric form...            yes      Yes  \n",
       "3  Our long-term study showed significantly bette...             no      Yes  \n",
       "4  The effects of the intervention were most pron...            yes      Yes  "
      ]
     },
     "execution_count": 6,
     "metadata": {},
     "output_type": "execute_result"
    }
   ],
   "source": [
    "df_train.head()"
   ]
  },
  {
   "cell_type": "code",
   "execution_count": 6,
   "metadata": {},
   "outputs": [],
   "source": [
    "dict_data =df_train['context'][0]"
   ]
  },
  {
   "cell_type": "code",
   "execution_count": 7,
   "metadata": {},
   "outputs": [
    {
     "data": {
      "text/plain": [
       "{'contexts': ['Programmed cell death (PCD) is the regulated death of cells within an organism. The lace plant (Aponogeton madagascariensis) produces perforations in its leaves through PCD. The leaves of the plant consist of a latticework of longitudinal and transverse veins enclosing areoles. PCD occurs in the cells at the center of these areoles and progresses outwards, stopping approximately five cells from the vasculature. The role of mitochondria during PCD has been recognized in animals; however, it has been less studied during PCD in plants.',\n",
       "  'The following paper elucidates the role of mitochondrial dynamics during developmentally regulated PCD in vivo in A. madagascariensis. A single areole within a window stage leaf (PCD is occurring) was divided into three areas based on the progression of PCD; cells that will not undergo PCD (NPCD), cells in early stages of PCD (EPCD), and cells in late stages of PCD (LPCD). Window stage leaves were stained with the mitochondrial dye MitoTracker Red CMXRos and examined. Mitochondrial dynamics were delineated into four categories (M1-M4) based on characteristics including distribution, motility, and membrane potential (ΔΨm). A TUNEL assay showed fragmented nDNA in a gradient over these mitochondrial stages. Chloroplasts and transvacuolar strands were also examined using live cell imaging. The possible importance of mitochondrial permeability transition pore (PTP) formation during PCD was indirectly examined via in vivo cyclosporine A (CsA) treatment. This treatment resulted in lace plant leaves with a significantly lower number of perforations compared to controls, and that displayed mitochondrial dynamics similar to that of non-PCD cells.'],\n",
       " 'labels': ['BACKGROUND', 'RESULTS'],\n",
       " 'meshes': ['Alismataceae',\n",
       "  'Apoptosis',\n",
       "  'Cell Differentiation',\n",
       "  'Mitochondria',\n",
       "  'Plant Leaves'],\n",
       " 'reasoning_required_pred': ['y', 'e', 's'],\n",
       " 'reasoning_free_pred': ['y', 'e', 's']}"
      ]
     },
     "execution_count": 7,
     "metadata": {},
     "output_type": "execute_result"
    }
   ],
   "source": [
    "dict_data"
   ]
  },
  {
   "cell_type": "markdown",
   "metadata": {},
   "source": [
    "## Distribution of final_decision"
   ]
  },
  {
   "cell_type": "code",
   "execution_count": 7,
   "metadata": {},
   "outputs": [
    {
     "data": {
      "text/plain": [
       "final_decision\n",
       "yes      552\n",
       "no       338\n",
       "maybe    110\n",
       "Name: count, dtype: int64"
      ]
     },
     "execution_count": 7,
     "metadata": {},
     "output_type": "execute_result"
    }
   ],
   "source": [
    "df_train['final_decision'].value_counts()"
   ]
  },
  {
   "cell_type": "markdown",
   "metadata": {},
   "source": [
    "## 1. Indexing "
   ]
  },
  {
   "cell_type": "code",
   "execution_count": null,
   "metadata": {},
   "outputs": [],
   "source": [
    "from dotenv import load_dotenv\n",
    "import os\n",
    "\n",
    "# Path to your .env file\n",
    "env_path = \"../.env\"  # Change path if needed\n",
    "\n",
    "# Load environment variables from .env\n",
    "load_dotenv(dotenv_path=env_path)\n",
    "# Access the environment variables\n",
    "ES_URL = os.getenv(\"ES_URL\")\n",
    "ES_USER = os.getenv(\"ES_USER\")\n",
    "ES_PASS = os.getenv(\"ES_PASS\")"
   ]
  },
  {
   "cell_type": "code",
   "execution_count": null,
   "metadata": {},
   "outputs": [],
   "source": [
    "# Create a global client connection to elastic search\n",
    "es_client = Elasticsearch(\n",
    "    ES_URL,\n",
    "    basic_auth=(ES_USER, ES_PASS),\n",
    "    verify_certs=False,\n",
    "    request_timeout=10000\n",
    ")"
   ]
  },
  {
   "cell_type": "code",
   "execution_count": null,
   "metadata": {},
   "outputs": [],
   "source": [
    "print(es_client.info())"
   ]
  },
  {
   "cell_type": "code",
   "execution_count": null,
   "metadata": {},
   "outputs": [],
   "source": [
    "## Indexing PubmedQA\n",
    "index_name = \"research_index_bm25_pubmedqa_metadata\"\n",
    "index_mapping = {\n",
    "    \"settings\" :{\n",
    "    \"number_of_replicas\": 0,\n",
    "        \"number_of_shards\": 1,\n",
    "        \"refresh_interval\": \"1m\",\n",
    "        \"analysis\": {\n",
    "            \"filter\": {\n",
    "                \"possessive_english_stemmer\": {\n",
    "                    \"type\": \"stemmer\",\n",
    "                    \"language\": \"possessive_english\"\n",
    "                },\n",
    "                \"light_english_stemmer\": {\n",
    "                    \"type\": \"stemmer\",\n",
    "                    \"language\": \"light_english\"\n",
    "                },\n",
    "                \"english_stop\": {\n",
    "                    \"ignore_case\": \"true\",\n",
    "                    \"type\": \"stop\",\n",
    "                    \"stopwords\": [\"a\", \"about\", \"all\", \"also\", \"am\", \"an\", \"and\", \"any\", \"are\", \"as\", \"at\",\n",
    "                                  \"be\", \"been\", \"but\", \"by\", \"can\", \"de\", \"did\", \"do\", \"does\", \"for\", \"from\",\n",
    "                                  \"had\", \"has\", \"have\", \"he\", \"her\", \"him\", \"his\", \"how\", \"if\", \"in\", \"into\",\n",
    "                                  \"is\", \"it\", \"its\", \"more\", \"my\", \"nbsp\", \"new\", \"no\", \"non\", \"not\", \"of\",\n",
    "                                  \"on\", \"one\", \"or\", \"other\", \"our\", \"she\", \"so\", \"some\", \"such\", \"than\",\n",
    "                                  \"that\", \"the\", \"their\", \"then\", \"there\", \"these\", \"they\", \"this\", \"those\",\n",
    "                                  \"thus\", \"to\", \"up\", \"us\", \"use\", \"was\", \"we\", \"were\", \"what\", \"when\", \"where\",\n",
    "                                  \"which\", \"while\", \"why\", \"will\", \"with\", \"would\", \"you\", \"your\", \"yours\"]\n",
    "                }\n",
    "            },\n",
    "            \"analyzer\": {\n",
    "                \"text_en_no_stop\": {\n",
    "                    \"filter\": [\n",
    "                        \"lowercase\",\n",
    "                        \"possessive_english_stemmer\",\n",
    "                        \"light_english_stemmer\"\n",
    "                    ],\n",
    "                    \"tokenizer\": \"standard\"\n",
    "                },\n",
    "                \"text_en_stop\": {\n",
    "                    \"filter\": [\n",
    "                        \"lowercase\",\n",
    "                        \"possessive_english_stemmer\",\n",
    "                        \"english_stop\",\n",
    "                        \"light_english_stemmer\"\n",
    "                    ],\n",
    "                    \"tokenizer\": \"standard\"\n",
    "                },\n",
    "                \"whitespace_lowercase\": {\n",
    "                    \"tokenizer\": \"whitespace\",\n",
    "                    \"filter\": [\n",
    "                        \"lowercase\"\n",
    "                    ]\n",
    "                }\n",
    "            },\n",
    "            \"normalizer\": {\n",
    "                \"keyword_lowercase\": {\n",
    "                    \"filter\": [\n",
    "                        \"lowercase\"\n",
    "                    ]\n",
    "                }\n",
    "            }\n",
    "        }\n",
    "    },\n",
    "    \"mappings\": {\n",
    "        \"properties\": {\n",
    "            \"id\": {\"type\": \"text\"},\n",
    "            \"pubid\": {\"type\": \"text\"},\n",
    "            \"contexts\":{\"type\": \"text\"},\n",
    "            \"labels\": {\"type\": \"text\"},\n",
    "            \"meshes\": {\"type\": \"text\"},\n",
    "            \"keywords\": {\"type\": \"text\"},\n",
    "            \"topics\": {\"type\": \"text\"},\n",
    "            \"phrases\": {\"type\": \"text\"},\n",
    "            \"synonyms\": {\"type\": \"text\"},\n",
    "            \"achronym\": {\"type\": \"text\"},\n",
    "            \"long_answer\": {\"type\": \"text\"},\n",
    "            \"labelled\":{\"type\": \"text\"}\n",
    "        }\n",
    "    }\n",
    "}"
   ]
  },
  {
   "cell_type": "code",
   "execution_count": null,
   "metadata": {},
   "outputs": [],
   "source": [
    "def create_index(index_name,mapping):\n",
    "    try:\n",
    "        es_client.indices.create(index=index_name,body = mapping)\n",
    "        print(f\"Index '{index_name}' created successfully.\")\n",
    "    except RequestError as e:\n",
    "        if e.error == 'resource_already_exists_exception':\n",
    "            print(f\"Index '{index_name}' already exists.\")\n",
    "        else:\n",
    "            print(f\"An error occurred while creating index '{index_name}': {e}\")"
   ]
  },
  {
   "cell_type": "code",
   "execution_count": null,
   "metadata": {},
   "outputs": [],
   "source": [
    "create_index(index_name,index_mapping)"
   ]
  },
  {
   "cell_type": "code",
   "execution_count": null,
   "metadata": {},
   "outputs": [],
   "source": [
    "index_name_knn = 'research_index_knn_pubmedqa_metadata'\n",
    "index_mapping = {\n",
    "    \"settings\" :{\n",
    "    \"number_of_replicas\": 0,\n",
    "        \"number_of_shards\": 1,\n",
    "        \"refresh_interval\": \"1m\",\n",
    "        \"analysis\": {\n",
    "            \"filter\": {\n",
    "                \"possessive_english_stemmer\": {\n",
    "                    \"type\": \"stemmer\",\n",
    "                    \"language\": \"possessive_english\"\n",
    "                },\n",
    "                \"light_english_stemmer\": {\n",
    "                    \"type\": \"stemmer\",\n",
    "                    \"language\": \"light_english\"\n",
    "                },\n",
    "                \"english_stop\": {\n",
    "                    \"ignore_case\": \"true\",\n",
    "                    \"type\": \"stop\",\n",
    "                    \"stopwords\": [\"a\", \"about\", \"all\", \"also\", \"am\", \"an\", \"and\", \"any\", \"are\", \"as\", \"at\",\n",
    "                                  \"be\", \"been\", \"but\", \"by\", \"can\", \"de\", \"did\", \"do\", \"does\", \"for\", \"from\",\n",
    "                                  \"had\", \"has\", \"have\", \"he\", \"her\", \"him\", \"his\", \"how\", \"if\", \"in\", \"into\",\n",
    "                                  \"is\", \"it\", \"its\", \"more\", \"my\", \"nbsp\", \"new\", \"no\", \"non\", \"not\", \"of\",\n",
    "                                  \"on\", \"one\", \"or\", \"other\", \"our\", \"she\", \"so\", \"some\", \"such\", \"than\",\n",
    "                                  \"that\", \"the\", \"their\", \"then\", \"there\", \"these\", \"they\", \"this\", \"those\",\n",
    "                                  \"thus\", \"to\", \"up\", \"us\", \"use\", \"was\", \"we\", \"were\", \"what\", \"when\", \"where\",\n",
    "                                  \"which\", \"while\", \"why\", \"will\", \"with\", \"would\", \"you\", \"your\", \"yours\"]\n",
    "                }\n",
    "            },\n",
    "            \"analyzer\": {\n",
    "                \"text_en_no_stop\": {\n",
    "                    \"filter\": [\n",
    "                        \"lowercase\",\n",
    "                        \"possessive_english_stemmer\",\n",
    "                        \"light_english_stemmer\"\n",
    "                    ],\n",
    "                    \"tokenizer\": \"standard\"\n",
    "                },\n",
    "                \"text_en_stop\": {\n",
    "                    \"filter\": [\n",
    "                        \"lowercase\",\n",
    "                        \"possessive_english_stemmer\",\n",
    "                        \"english_stop\",\n",
    "                        \"light_english_stemmer\"\n",
    "                    ],\n",
    "                    \"tokenizer\": \"standard\"\n",
    "                },\n",
    "                \"whitespace_lowercase\": {\n",
    "                    \"tokenizer\": \"whitespace\",\n",
    "                    \"filter\": [\n",
    "                        \"lowercase\"\n",
    "                    ]\n",
    "                }\n",
    "            },\n",
    "            \"normalizer\": {\n",
    "                \"keyword_lowercase\": {\n",
    "                    \"filter\": [\n",
    "                        \"lowercase\"\n",
    "                    ]\n",
    "                }\n",
    "            }\n",
    "        }\n",
    "    },\n",
    "    \"mappings\": {\n",
    "        \"properties\": {\n",
    "           \"id\": {\"type\": \"text\"},\n",
    "            \"pubid\": {\"type\": \"text\"},\n",
    "            \"contexts\":{\"type\": \"text\"},\n",
    "            \"labels\": {\"type\": \"text\"},\n",
    "            \"meshes\": {\"type\": \"text\"},\n",
    "            \"long_answer\": {\"type\": \"text\"},\n",
    "            \"labelled\":{\"type\": \"text\"},\n",
    "            \"keywords\": {\"type\": \"text\"},\n",
    "            \"topics\": {\"type\": \"text\"},\n",
    "            \"phrases\": {\"type\": \"text\"},\n",
    "            \"synonyms\": {\"type\": \"text\"},\n",
    "            \"achronym\": {\"type\": \"text\"},\n",
    "            \"contexts_embedding\": {\n",
    "                    \"type\": \"dense_vector\", \"dims\": 384,\n",
    "                    \"similarity\": \"cosine\", \"index\": \"true\"\n",
    "                }\n",
    "            \n",
    "        }\n",
    "    }\n",
    "}\n",
    "\n",
    "create_index(index_name_knn,index_mapping)"
   ]
  },
  {
   "cell_type": "markdown",
   "metadata": {},
   "source": [
    "## Indexing Pipeline"
   ]
  },
  {
   "cell_type": "code",
   "execution_count": 9,
   "metadata": {},
   "outputs": [],
   "source": [
    "from sentence_transformers import SentenceTransformer\n",
    "model = SentenceTransformer('sentence-transformers/all-MiniLM-L6-v2')"
   ]
  },
  {
   "cell_type": "code",
   "execution_count": null,
   "metadata": {},
   "outputs": [],
   "source": [
    "# List of JSON file paths\n",
    "file_paths = [\n",
    "    \"output/pubmedqa/meta/pubmedqa_index_metadata_0to20000.json\",\n",
    "    \"output/pubmedqa/meta/pubmedqa_index_metadata_20000TO30000.json\",\n",
    "    \"output/pubmedqa/meta/pubmedqa_index_metadata_30000TO38468.json\",\n",
    "    \"output/pubmedqa/meta/pubmedqa_index_metadata_38469TO40000.json\",\n",
    "    \"output/pubmedqa/meta/pubmedqa_index_metadata_40000to41000.json\",\n",
    "    \"output/pubmedqa/meta/pubmedqa_index_metadata_41000to42000.json\",\n",
    "    \"output/pubmedqa/meta/code/pubmedqa_index_metadata_42000to45000.json\",\n",
    "    \"output/pubmedqa/meta/pubmedqa_index_metadata_45000to48000.json\",\n",
    "    \"output/pubmedqa/meta/pubmedqa_index_metadata_48000TO50000.json\",\n",
    "    \"output/pubmedqa/meta/pubmedqa_index_metadata_50000TO51000.json\",\n",
    "    \"output/pubmedqa/meta/pubmedqa_index_metadata_51000TO55000.json\",\n",
    "    \"output/pubmedqa/meta/pubmedqa_index_metadata_55000TO58000.json\",\n",
    "    \"output/pubmedqa/meta/pubmedqa_index_metadata_58000TO60000.json\",\n",
    "    \"output/pubmedqa/meta/pubmedqa_index_metadata_60000TO63000.json\",\n",
    "]"
   ]
  },
  {
   "cell_type": "code",
   "execution_count": null,
   "metadata": {},
   "outputs": [],
   "source": [
    "# List to store all unique data\n",
    "unique_data = []\n",
    "seen_pubids = set()\n",
    "\n",
    "# Reading and appending unique JSON data\n",
    "for file_path in file_paths:\n",
    "    if os.path.exists(file_path):\n",
    "        try:\n",
    "            with open(file_path, 'r', encoding='utf-8') as file:\n",
    "                data = json.load(file)\n",
    "                for item in data:\n",
    "                    pubid = item.get('pubid')\n",
    "                    if pubid and pubid not in seen_pubids:\n",
    "                        seen_pubids.add(pubid)\n",
    "                        unique_data.append(item)\n",
    "        except (json.JSONDecodeError, IOError) as e:\n",
    "            print(f\"Error reading {file_path}: {e}\")\n",
    "    else:\n",
    "        print(f\"File not found: {file_path}\")\n",
    "\n",
    "# Saving the deduplicated data\n",
    "output_file = \"/home/magma/Abhilasha/Meta_Data_Enrichment/code/combined_unique_metadata.json\"\n",
    "try:\n",
    "    with open(output_file, 'w', encoding='utf-8') as outfile:\n",
    "        json.dump(unique_data, outfile, ensure_ascii=False, indent=4)\n",
    "    print(f\"Unique data successfully saved to {output_file}\")\n",
    "except IOError as e:\n",
    "    print(f\"Error writing to {output_file}: {e}\")"
   ]
  },
  {
   "cell_type": "code",
   "execution_count": null,
   "metadata": {},
   "outputs": [],
   "source": [
    "print(len(unique_data))"
   ]
  },
  {
   "cell_type": "code",
   "execution_count": null,
   "metadata": {},
   "outputs": [],
   "source": [
    "count =0\n",
    "for d in unique_data:\n",
    "    if 'passage_embedding' in d:\n",
    "        count = count+1\n",
    "print(count)"
   ]
  },
  {
   "cell_type": "code",
   "execution_count": null,
   "metadata": {},
   "outputs": [],
   "source": [
    "index_doc =unique_data"
   ]
  },
  {
   "cell_type": "code",
   "execution_count": null,
   "metadata": {},
   "outputs": [],
   "source": [
    "index_doc_knn =[]"
   ]
  },
  {
   "cell_type": "markdown",
   "metadata": {},
   "source": [
    "#### Context Embedding using model encoding"
   ]
  },
  {
   "cell_type": "code",
   "execution_count": null,
   "metadata": {},
   "outputs": [],
   "source": [
    "for data in unique_data:\n",
    "    contexts = data['contexts']\n",
    "    context_str =''\n",
    "    for context in contexts:\n",
    "        context_str += context\n",
    "    passage_embedding = model.encode(context_str)\n",
    "    data[\"passage_embedding\"] = passage_embedding\n",
    "    index_doc_knn.append(data)"
   ]
  },
  {
   "cell_type": "code",
   "execution_count": null,
   "metadata": {},
   "outputs": [],
   "source": [
    "index_data =[]\n",
    "for data in index_doc:\n",
    "    synonyms = data['synonyms']\n",
    "    achronym = data['achronym']\n",
    "    data['synonyms'] = json.dumps(synonyms)\n",
    "    data['achronym'] = json.dumps(achronym)\n",
    "    index_data.append(data)\n"
   ]
  },
  {
   "cell_type": "markdown",
   "metadata": {},
   "source": [
    "## BM25 indexing"
   ]
  },
  {
   "cell_type": "code",
   "execution_count": null,
   "metadata": {},
   "outputs": [],
   "source": [
    "import time\n",
    "documents = []\n",
    "for doc in index_data:\n",
    "    documents.append(\n",
    "        {\n",
    "            \"_index\": index_name, ## CHANGE INDEX NAME\n",
    "            \"_source\": doc,\n",
    "        }\n",
    "    )"
   ]
  },
  {
   "cell_type": "code",
   "execution_count": null,
   "metadata": {},
   "outputs": [],
   "source": [
    "from elasticsearch import helpers,exceptions, RequestError\n",
    "def chunk_documents(documents, num_chunks):\n",
    "    chunk_size = len(documents) // num_chunks\n",
    "    remainder = len(documents) % num_chunks\n",
    "\n",
    "    start = 0\n",
    "    for i in range(num_chunks):\n",
    "        chunk_end = start + chunk_size + (1 if i < remainder else 0)\n",
    "        yield documents[start:chunk_end]\n",
    "        start = chunk_end\n",
    "\n",
    "# Example usage\n",
    "total_docs = len(documents)\n",
    "num_chunks = 100\n",
    "\n",
    "start_time = time.time()\n",
    "for i, chunk in enumerate(chunk_documents(documents, num_chunks)):\n",
    "    #clear_output(wait=True)\n",
    "    print(f\"Chunk {i+1}: {len(chunk)} documents\")\n",
    "    try:\n",
    "        helpers.bulk(es_client, chunk)\n",
    "        print(\"Done indexing documents into \",{index_name}, \"index!\",{len(chunk)}) ## CHANGE INDEX NAME\n",
    "    except Exception as e: \n",
    "        # Handle the exception\n",
    "        print(\"An error occurred:\", e)"
   ]
  },
  {
   "cell_type": "markdown",
   "metadata": {},
   "source": [
    "## KNN Indexing"
   ]
  },
  {
   "cell_type": "code",
   "execution_count": null,
   "metadata": {},
   "outputs": [],
   "source": [
    "index_data_knn =[]\n",
    "for data in index_doc_knn:\n",
    "    synonyms = data['synonyms']\n",
    "    achronym = data['achronym']\n",
    "    data['synonyms'] = json.dumps(synonyms)\n",
    "    data['achronym'] = json.dumps(achronym)\n",
    "    index_data_knn.append(data)"
   ]
  },
  {
   "cell_type": "code",
   "execution_count": null,
   "metadata": {},
   "outputs": [],
   "source": [
    "import time\n",
    "documents = []\n",
    "for doc in index_data_knn:\n",
    "    documents.append(\n",
    "        {\n",
    "            \"_index\": index_name_knn, ## CHANGE INDEX NAME\n",
    "            \"_source\": doc,\n",
    "        }\n",
    "    )"
   ]
  },
  {
   "cell_type": "code",
   "execution_count": null,
   "metadata": {},
   "outputs": [],
   "source": [
    "index_doc_knn[0]"
   ]
  },
  {
   "cell_type": "code",
   "execution_count": null,
   "metadata": {},
   "outputs": [],
   "source": [
    "## Testing purpose\n",
    "es_client.index(index=index_name_knn,body =index_doc_knn[0])"
   ]
  },
  {
   "cell_type": "code",
   "execution_count": null,
   "metadata": {},
   "outputs": [],
   "source": [
    "# Example usage\n",
    "total_docs = len(documents)\n",
    "num_chunks = 100\n",
    "start_time = time.time()\n",
    "for i, chunk in enumerate(chunk_documents(documents, num_chunks)):\n",
    "    #clear_output(wait=True)\n",
    "    print(f\"Chunk {i+1}: {len(chunk)} documents\")\n",
    "    try:\n",
    "        helpers.bulk(es_client, chunk)\n",
    "        print(\"Done indexing documents into \",{index_name_knn}, \"index!\",{len(chunk)}) ## CHANGE INDEX NAME\n",
    "    except Exception as e: \n",
    "        # Handle the exception\n",
    "        print(\"An error occurred:\", e)"
   ]
  }
 ],
 "metadata": {
  "kernelspec": {
   "display_name": "magma-juniper",
   "language": "python",
   "name": "python3"
  },
  "language_info": {
   "codemirror_mode": {
    "name": "ipython",
    "version": 3
   },
   "file_extension": ".py",
   "mimetype": "text/x-python",
   "name": "python",
   "nbconvert_exporter": "python",
   "pygments_lexer": "ipython3",
   "version": "3.10.14"
  }
 },
 "nbformat": 4,
 "nbformat_minor": 2
}
