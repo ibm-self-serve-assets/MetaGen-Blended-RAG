{
 "cells": [
  {
   "cell_type": "markdown",
   "metadata": {},
   "source": [
    "**PubMedQA - Exploratory Data Analysis (EDA)**\n",
    "This notebook provides an exploratory data analysis (EDA) of the PubMedQA dataset, including both labeled and unlabeled samples. The main objectives are:\n",
    "\n",
    "- **Loading and Inspecting Data:** Load the PubMedQA dataset (labeled and unlabeled) and examine its structure using pandas DataFrames.\n",
    "- **Label Distribution:** Analyze the distribution of answer labels in the labeled dataset.\n",
    "- **Context Analysis:** Compute statistics such as the number of context passages per question and the word count of contexts.\n",
    "- **Custom Columns:** Add columns to distinguish between labeled and unlabeled samples and to facilitate further analysis.\n",
    "- **Descriptive Statistics:** Calculate descriptive statistics (mean, mode, skewness, kurtosis) for context-related features.\n",
    "- **Preparation for Further Analysis:** Prepare the data for more advanced analyses of question complexity and answer patterns.\n",
    "\n",
    "This EDA will help in understanding the dataset's characteristics and guide subsequent modeling or research steps."
   ]
  },
  {
   "cell_type": "code",
   "execution_count": 1,
   "metadata": {},
   "outputs": [],
   "source": [
    "from datasets import load_dataset\n",
    "import pandas as pd\n",
    "ds = load_dataset(\"qiaojin/PubMedQA\", \"pqa_labeled\")"
   ]
  },
  {
   "cell_type": "code",
   "execution_count": 2,
   "metadata": {},
   "outputs": [
    {
     "data": {
      "text/html": [
       "<div>\n",
       "<style scoped>\n",
       "    .dataframe tbody tr th:only-of-type {\n",
       "        vertical-align: middle;\n",
       "    }\n",
       "\n",
       "    .dataframe tbody tr th {\n",
       "        vertical-align: top;\n",
       "    }\n",
       "\n",
       "    .dataframe thead th {\n",
       "        text-align: right;\n",
       "    }\n",
       "</style>\n",
       "<table border=\"1\" class=\"dataframe\">\n",
       "  <thead>\n",
       "    <tr style=\"text-align: right;\">\n",
       "      <th></th>\n",
       "      <th>pubid</th>\n",
       "      <th>question</th>\n",
       "      <th>context</th>\n",
       "      <th>long_answer</th>\n",
       "      <th>final_decision</th>\n",
       "    </tr>\n",
       "  </thead>\n",
       "  <tbody>\n",
       "    <tr>\n",
       "      <th>0</th>\n",
       "      <td>21645374</td>\n",
       "      <td>Do mitochondria play a role in remodelling lac...</td>\n",
       "      <td>{'contexts': ['Programmed cell death (PCD) is ...</td>\n",
       "      <td>Results depicted mitochondrial dynamics in viv...</td>\n",
       "      <td>yes</td>\n",
       "    </tr>\n",
       "    <tr>\n",
       "      <th>1</th>\n",
       "      <td>16418930</td>\n",
       "      <td>Landolt C and snellen e acuity: differences in...</td>\n",
       "      <td>{'contexts': ['Assessment of visual acuity dep...</td>\n",
       "      <td>Using the charts described, there was only a s...</td>\n",
       "      <td>no</td>\n",
       "    </tr>\n",
       "    <tr>\n",
       "      <th>2</th>\n",
       "      <td>9488747</td>\n",
       "      <td>Syncope during bathing in infants, a pediatric...</td>\n",
       "      <td>{'contexts': ['Apparent life-threatening event...</td>\n",
       "      <td>\"Aquagenic maladies\" could be a pediatric form...</td>\n",
       "      <td>yes</td>\n",
       "    </tr>\n",
       "    <tr>\n",
       "      <th>3</th>\n",
       "      <td>17208539</td>\n",
       "      <td>Are the long-term results of the transanal pul...</td>\n",
       "      <td>{'contexts': ['The transanal endorectal pull-t...</td>\n",
       "      <td>Our long-term study showed significantly bette...</td>\n",
       "      <td>no</td>\n",
       "    </tr>\n",
       "    <tr>\n",
       "      <th>4</th>\n",
       "      <td>10808977</td>\n",
       "      <td>Can tailored interventions increase mammograph...</td>\n",
       "      <td>{'contexts': ['Telephone counseling and tailor...</td>\n",
       "      <td>The effects of the intervention were most pron...</td>\n",
       "      <td>yes</td>\n",
       "    </tr>\n",
       "  </tbody>\n",
       "</table>\n",
       "</div>"
      ],
      "text/plain": [
       "      pubid                                           question  \\\n",
       "0  21645374  Do mitochondria play a role in remodelling lac...   \n",
       "1  16418930  Landolt C and snellen e acuity: differences in...   \n",
       "2   9488747  Syncope during bathing in infants, a pediatric...   \n",
       "3  17208539  Are the long-term results of the transanal pul...   \n",
       "4  10808977  Can tailored interventions increase mammograph...   \n",
       "\n",
       "                                             context  \\\n",
       "0  {'contexts': ['Programmed cell death (PCD) is ...   \n",
       "1  {'contexts': ['Assessment of visual acuity dep...   \n",
       "2  {'contexts': ['Apparent life-threatening event...   \n",
       "3  {'contexts': ['The transanal endorectal pull-t...   \n",
       "4  {'contexts': ['Telephone counseling and tailor...   \n",
       "\n",
       "                                         long_answer final_decision  \n",
       "0  Results depicted mitochondrial dynamics in viv...            yes  \n",
       "1  Using the charts described, there was only a s...             no  \n",
       "2  \"Aquagenic maladies\" could be a pediatric form...            yes  \n",
       "3  Our long-term study showed significantly bette...             no  \n",
       "4  The effects of the intervention were most pron...            yes  "
      ]
     },
     "execution_count": 2,
     "metadata": {},
     "output_type": "execute_result"
    }
   ],
   "source": [
    "df_train = pd.DataFrame(ds['train'])\n",
    "# If you want to see the first few rows of the DataFrame\n",
    "df_train.head()"
   ]
  },
  {
   "cell_type": "code",
   "execution_count": 3,
   "metadata": {},
   "outputs": [
    {
     "data": {
      "text/plain": [
       "1000"
      ]
     },
     "execution_count": 3,
     "metadata": {},
     "output_type": "execute_result"
    }
   ],
   "source": [
    "len(df_train)"
   ]
  },
  {
   "cell_type": "code",
   "execution_count": 4,
   "metadata": {},
   "outputs": [],
   "source": [
    "## Custom_label\n",
    "df_train['labelled'] = \"Yes\""
   ]
  },
  {
   "cell_type": "code",
   "execution_count": 5,
   "metadata": {},
   "outputs": [
    {
     "data": {
      "text/html": [
       "<div>\n",
       "<style scoped>\n",
       "    .dataframe tbody tr th:only-of-type {\n",
       "        vertical-align: middle;\n",
       "    }\n",
       "\n",
       "    .dataframe tbody tr th {\n",
       "        vertical-align: top;\n",
       "    }\n",
       "\n",
       "    .dataframe thead th {\n",
       "        text-align: right;\n",
       "    }\n",
       "</style>\n",
       "<table border=\"1\" class=\"dataframe\">\n",
       "  <thead>\n",
       "    <tr style=\"text-align: right;\">\n",
       "      <th></th>\n",
       "      <th>pubid</th>\n",
       "      <th>question</th>\n",
       "      <th>context</th>\n",
       "      <th>long_answer</th>\n",
       "      <th>final_decision</th>\n",
       "      <th>labelled</th>\n",
       "    </tr>\n",
       "  </thead>\n",
       "  <tbody>\n",
       "    <tr>\n",
       "      <th>0</th>\n",
       "      <td>21645374</td>\n",
       "      <td>Do mitochondria play a role in remodelling lac...</td>\n",
       "      <td>{'contexts': ['Programmed cell death (PCD) is ...</td>\n",
       "      <td>Results depicted mitochondrial dynamics in viv...</td>\n",
       "      <td>yes</td>\n",
       "      <td>Yes</td>\n",
       "    </tr>\n",
       "    <tr>\n",
       "      <th>1</th>\n",
       "      <td>16418930</td>\n",
       "      <td>Landolt C and snellen e acuity: differences in...</td>\n",
       "      <td>{'contexts': ['Assessment of visual acuity dep...</td>\n",
       "      <td>Using the charts described, there was only a s...</td>\n",
       "      <td>no</td>\n",
       "      <td>Yes</td>\n",
       "    </tr>\n",
       "    <tr>\n",
       "      <th>2</th>\n",
       "      <td>9488747</td>\n",
       "      <td>Syncope during bathing in infants, a pediatric...</td>\n",
       "      <td>{'contexts': ['Apparent life-threatening event...</td>\n",
       "      <td>\"Aquagenic maladies\" could be a pediatric form...</td>\n",
       "      <td>yes</td>\n",
       "      <td>Yes</td>\n",
       "    </tr>\n",
       "    <tr>\n",
       "      <th>3</th>\n",
       "      <td>17208539</td>\n",
       "      <td>Are the long-term results of the transanal pul...</td>\n",
       "      <td>{'contexts': ['The transanal endorectal pull-t...</td>\n",
       "      <td>Our long-term study showed significantly bette...</td>\n",
       "      <td>no</td>\n",
       "      <td>Yes</td>\n",
       "    </tr>\n",
       "    <tr>\n",
       "      <th>4</th>\n",
       "      <td>10808977</td>\n",
       "      <td>Can tailored interventions increase mammograph...</td>\n",
       "      <td>{'contexts': ['Telephone counseling and tailor...</td>\n",
       "      <td>The effects of the intervention were most pron...</td>\n",
       "      <td>yes</td>\n",
       "      <td>Yes</td>\n",
       "    </tr>\n",
       "  </tbody>\n",
       "</table>\n",
       "</div>"
      ],
      "text/plain": [
       "      pubid                                           question  \\\n",
       "0  21645374  Do mitochondria play a role in remodelling lac...   \n",
       "1  16418930  Landolt C and snellen e acuity: differences in...   \n",
       "2   9488747  Syncope during bathing in infants, a pediatric...   \n",
       "3  17208539  Are the long-term results of the transanal pul...   \n",
       "4  10808977  Can tailored interventions increase mammograph...   \n",
       "\n",
       "                                             context  \\\n",
       "0  {'contexts': ['Programmed cell death (PCD) is ...   \n",
       "1  {'contexts': ['Assessment of visual acuity dep...   \n",
       "2  {'contexts': ['Apparent life-threatening event...   \n",
       "3  {'contexts': ['The transanal endorectal pull-t...   \n",
       "4  {'contexts': ['Telephone counseling and tailor...   \n",
       "\n",
       "                                         long_answer final_decision labelled  \n",
       "0  Results depicted mitochondrial dynamics in viv...            yes      Yes  \n",
       "1  Using the charts described, there was only a s...             no      Yes  \n",
       "2  \"Aquagenic maladies\" could be a pediatric form...            yes      Yes  \n",
       "3  Our long-term study showed significantly bette...             no      Yes  \n",
       "4  The effects of the intervention were most pron...            yes      Yes  "
      ]
     },
     "execution_count": 5,
     "metadata": {},
     "output_type": "execute_result"
    }
   ],
   "source": [
    "df_train.head()"
   ]
  },
  {
   "cell_type": "code",
   "execution_count": 6,
   "metadata": {},
   "outputs": [],
   "source": [
    "dict_data =df_train['context'][0]"
   ]
  },
  {
   "cell_type": "code",
   "execution_count": 7,
   "metadata": {},
   "outputs": [
    {
     "data": {
      "text/plain": [
       "{'contexts': ['Programmed cell death (PCD) is the regulated death of cells within an organism. The lace plant (Aponogeton madagascariensis) produces perforations in its leaves through PCD. The leaves of the plant consist of a latticework of longitudinal and transverse veins enclosing areoles. PCD occurs in the cells at the center of these areoles and progresses outwards, stopping approximately five cells from the vasculature. The role of mitochondria during PCD has been recognized in animals; however, it has been less studied during PCD in plants.',\n",
       "  'The following paper elucidates the role of mitochondrial dynamics during developmentally regulated PCD in vivo in A. madagascariensis. A single areole within a window stage leaf (PCD is occurring) was divided into three areas based on the progression of PCD; cells that will not undergo PCD (NPCD), cells in early stages of PCD (EPCD), and cells in late stages of PCD (LPCD). Window stage leaves were stained with the mitochondrial dye MitoTracker Red CMXRos and examined. Mitochondrial dynamics were delineated into four categories (M1-M4) based on characteristics including distribution, motility, and membrane potential (ΔΨm). A TUNEL assay showed fragmented nDNA in a gradient over these mitochondrial stages. Chloroplasts and transvacuolar strands were also examined using live cell imaging. The possible importance of mitochondrial permeability transition pore (PTP) formation during PCD was indirectly examined via in vivo cyclosporine A (CsA) treatment. This treatment resulted in lace plant leaves with a significantly lower number of perforations compared to controls, and that displayed mitochondrial dynamics similar to that of non-PCD cells.'],\n",
       " 'labels': ['BACKGROUND', 'RESULTS'],\n",
       " 'meshes': ['Alismataceae',\n",
       "  'Apoptosis',\n",
       "  'Cell Differentiation',\n",
       "  'Mitochondria',\n",
       "  'Plant Leaves'],\n",
       " 'reasoning_required_pred': ['y', 'e', 's'],\n",
       " 'reasoning_free_pred': ['y', 'e', 's']}"
      ]
     },
     "execution_count": 7,
     "metadata": {},
     "output_type": "execute_result"
    }
   ],
   "source": [
    "dict_data"
   ]
  },
  {
   "cell_type": "markdown",
   "metadata": {},
   "source": [
    "## Distribution of final_decision"
   ]
  },
  {
   "cell_type": "code",
   "execution_count": 8,
   "metadata": {},
   "outputs": [
    {
     "data": {
      "text/plain": [
       "final_decision\n",
       "yes      552\n",
       "no       338\n",
       "maybe    110\n",
       "Name: count, dtype: int64"
      ]
     },
     "execution_count": 8,
     "metadata": {},
     "output_type": "execute_result"
    }
   ],
   "source": [
    "df_train['final_decision'].value_counts()"
   ]
  },
  {
   "cell_type": "code",
   "execution_count": 9,
   "metadata": {},
   "outputs": [],
   "source": [
    "from nltk.tokenize import word_tokenize"
   ]
  },
  {
   "cell_type": "code",
   "execution_count": 10,
   "metadata": {},
   "outputs": [],
   "source": [
    "df_train['context_count'] =0\n",
    "df_train['context_length'] =0\n",
    "for index, row in df_train.iterrows():\n",
    "    context = row['context']['contexts']\n",
    "    df_train.at[index,'context_count'] =len(context)\n",
    "    context_str =''\n",
    "    for c in context:\n",
    "        context_str +=c\n",
    "    df_train.at[index,'context_length'] =len(word_tokenize(context_str))\n",
    "    "
   ]
  },
  {
   "cell_type": "code",
   "execution_count": 11,
   "metadata": {},
   "outputs": [
    {
     "data": {
      "text/plain": [
       "context_count\n",
       "3    720\n",
       "4    101\n",
       "2     69\n",
       "6     47\n",
       "5     34\n",
       "7     22\n",
       "8      5\n",
       "9      1\n",
       "1      1\n",
       "Name: count, dtype: int64"
      ]
     },
     "execution_count": 11,
     "metadata": {},
     "output_type": "execute_result"
    }
   ],
   "source": [
    "df_train['context_count'].value_counts()"
   ]
  },
  {
   "cell_type": "code",
   "execution_count": 12,
   "metadata": {},
   "outputs": [
    {
     "data": {
      "text/plain": [
       "(count    1000.000000\n",
       " mean        3.358000\n",
       " std         1.057807\n",
       " min         1.000000\n",
       " 25%         3.000000\n",
       " 50%         3.000000\n",
       " 75%         3.000000\n",
       " max         9.000000\n",
       " Name: context_count, dtype: float64,\n",
       " 3,\n",
       " 2.175734543159045,\n",
       " 5.063905223193476)"
      ]
     },
     "execution_count": 12,
     "metadata": {},
     "output_type": "execute_result"
    }
   ],
   "source": [
    "# Retry computing the descriptive statistics with explicit handling of data types\n",
    "content_lengths = pd.to_numeric(df_train['context_count'], errors='coerce')\n",
    "\n",
    "# Compute descriptive statistics\n",
    "descriptive_stats = content_lengths.describe()\n",
    "\n",
    "# Calculate additional useful statistics like mode, skewness, and kurtosis\n",
    "mode = content_lengths.mode()[0]  # Mode could be multimodal, we take the first one\n",
    "skewness = content_lengths.skew()\n",
    "kurtosis = content_lengths.kurt()\n",
    "\n",
    "(descriptive_stats, mode, skewness, kurtosis)"
   ]
  },
  {
   "cell_type": "code",
   "execution_count": 13,
   "metadata": {},
   "outputs": [
    {
     "data": {
      "text/plain": [
       "(count    1000.000000\n",
       " mean      234.442000\n",
       " std        65.007219\n",
       " min        50.000000\n",
       " 25%       191.000000\n",
       " 50%       233.000000\n",
       " 75%       272.000000\n",
       " max       461.000000\n",
       " Name: context_length, dtype: float64,\n",
       " 216,\n",
       " 0.3354727243032049,\n",
       " 0.5991016061513186)"
      ]
     },
     "execution_count": 13,
     "metadata": {},
     "output_type": "execute_result"
    }
   ],
   "source": [
    "# Retry computing the descriptive statistics with explicit handling of data types\n",
    "content_lengths = pd.to_numeric(df_train['context_length'], errors='coerce')\n",
    "\n",
    "# Compute descriptive statistics\n",
    "descriptive_stats = content_lengths.describe()\n",
    "\n",
    "# Calculate additional useful statistics like mode, skewness, and kurtosis\n",
    "mode = content_lengths.mode()[0]  # Mode could be multimodal, we take the first one\n",
    "skewness = content_lengths.skew()\n",
    "kurtosis = content_lengths.kurt()\n",
    "\n",
    "(descriptive_stats, mode, skewness, kurtosis)"
   ]
  },
  {
   "cell_type": "code",
   "execution_count": 14,
   "metadata": {},
   "outputs": [],
   "source": [
    "unlabbeld = load_dataset(\"qiaojin/PubMedQA\", \"pqa_unlabeled\")"
   ]
  },
  {
   "cell_type": "code",
   "execution_count": 15,
   "metadata": {},
   "outputs": [
    {
     "data": {
      "text/html": [
       "<div>\n",
       "<style scoped>\n",
       "    .dataframe tbody tr th:only-of-type {\n",
       "        vertical-align: middle;\n",
       "    }\n",
       "\n",
       "    .dataframe tbody tr th {\n",
       "        vertical-align: top;\n",
       "    }\n",
       "\n",
       "    .dataframe thead th {\n",
       "        text-align: right;\n",
       "    }\n",
       "</style>\n",
       "<table border=\"1\" class=\"dataframe\">\n",
       "  <thead>\n",
       "    <tr style=\"text-align: right;\">\n",
       "      <th></th>\n",
       "      <th>pubid</th>\n",
       "      <th>question</th>\n",
       "      <th>context</th>\n",
       "      <th>long_answer</th>\n",
       "    </tr>\n",
       "  </thead>\n",
       "  <tbody>\n",
       "    <tr>\n",
       "      <th>0</th>\n",
       "      <td>14499029</td>\n",
       "      <td>Is naturopathy as effective as conventional th...</td>\n",
       "      <td>{'contexts': ['Although the use of alternative...</td>\n",
       "      <td>Naturopathy appears to be an effective alterna...</td>\n",
       "    </tr>\n",
       "    <tr>\n",
       "      <th>1</th>\n",
       "      <td>14499049</td>\n",
       "      <td>Can randomised trials rely on existing electro...</td>\n",
       "      <td>{'contexts': ['To estimate the feasibility, ut...</td>\n",
       "      <td>Routine data have the potential to support hea...</td>\n",
       "    </tr>\n",
       "    <tr>\n",
       "      <th>2</th>\n",
       "      <td>14499672</td>\n",
       "      <td>Is laparoscopic radical prostatectomy better t...</td>\n",
       "      <td>{'contexts': ['To compare morbidity in two gro...</td>\n",
       "      <td>The results of our non-randomized study show t...</td>\n",
       "    </tr>\n",
       "    <tr>\n",
       "      <th>3</th>\n",
       "      <td>14499773</td>\n",
       "      <td>Does bacterial gastroenteritis predispose peop...</td>\n",
       "      <td>{'contexts': ['Irritable bowel syndrome (IBS) ...</td>\n",
       "      <td>Symptoms consistent with IBS and functional di...</td>\n",
       "    </tr>\n",
       "    <tr>\n",
       "      <th>4</th>\n",
       "      <td>14499777</td>\n",
       "      <td>Is early colonoscopy after admission for acute...</td>\n",
       "      <td>{'contexts': ['Urgent colonoscopy has been pro...</td>\n",
       "      <td>No significant association is apparent between...</td>\n",
       "    </tr>\n",
       "  </tbody>\n",
       "</table>\n",
       "</div>"
      ],
      "text/plain": [
       "      pubid                                           question  \\\n",
       "0  14499029  Is naturopathy as effective as conventional th...   \n",
       "1  14499049  Can randomised trials rely on existing electro...   \n",
       "2  14499672  Is laparoscopic radical prostatectomy better t...   \n",
       "3  14499773  Does bacterial gastroenteritis predispose peop...   \n",
       "4  14499777  Is early colonoscopy after admission for acute...   \n",
       "\n",
       "                                             context  \\\n",
       "0  {'contexts': ['Although the use of alternative...   \n",
       "1  {'contexts': ['To estimate the feasibility, ut...   \n",
       "2  {'contexts': ['To compare morbidity in two gro...   \n",
       "3  {'contexts': ['Irritable bowel syndrome (IBS) ...   \n",
       "4  {'contexts': ['Urgent colonoscopy has been pro...   \n",
       "\n",
       "                                         long_answer  \n",
       "0  Naturopathy appears to be an effective alterna...  \n",
       "1  Routine data have the potential to support hea...  \n",
       "2  The results of our non-randomized study show t...  \n",
       "3  Symptoms consistent with IBS and functional di...  \n",
       "4  No significant association is apparent between...  "
      ]
     },
     "execution_count": 15,
     "metadata": {},
     "output_type": "execute_result"
    }
   ],
   "source": [
    "df_unlabelled = pd.DataFrame(unlabbeld['train'])\n",
    "df_unlabelled.head()"
   ]
  },
  {
   "cell_type": "code",
   "execution_count": 16,
   "metadata": {},
   "outputs": [
    {
     "data": {
      "text/plain": [
       "{'contexts': ['Although the use of alternative medicine in the United States is increasing, no published studies have documented the effectiveness of naturopathy for treatment of menopausal symptoms compared to women receiving conventional therapy in the clinical setting.',\n",
       "  'To compare naturopathic therapy with conventional medical therapy for treatment of selected menopausal symptoms.',\n",
       "  'A retrospective cohort study, using abstracted data from medical charts.',\n",
       "  'One natural medicine and six conventional medical clinics at Community Health Centers of King County, Washington, from November 1, 1996, through July 31, 1998.',\n",
       "  'Women aged 40 years of age or more with a diagnosis of menopausal symptoms documented by a naturopathic or conventional physician.',\n",
       "  'Improvement in selected menopausal symptoms.',\n",
       "  'In univariate analyses, patients treated with naturopathy for menopausal symptoms reported higher monthly incomes ($1848.00 versus $853.60), were less likely to be smokers (11.4% versus 41.9%), exercised more frequently, and reported higher frequencies of decreased energy (41.8% versus 24.4%), insomnia (57.0% versus 33.1%), and hot flashes (69.6% versus 55.6%) at baseline than those who received conventional treatment. In multivariate analyses, patients treated with naturopathy were approximately seven times more likely than conventionally treated patients to report improvement for insomnia (odds ratio [OR], 6.77; 95% confidence interval [CI], 1.71, 26.63) and decreased energy (OR, 6.55; 95% CI, 0.96, 44.74). Naturopathy patients reported improvement for anxiety (OR, 1.27; 95% CI, 0.63, 2.56), hot flashes (OR, 1.40; 95% CI, 0.68, 2.88), menstrual changes (OR, 0.98; 95% CI, 0.43, 2.24), and vaginal dryness (OR, 0.91; 95% CI, 0.21, 3.96) about as frequently as patients who were treated conventionally.'],\n",
       " 'labels': ['BACKGROUND',\n",
       "  'OBJECTIVE',\n",
       "  'DESIGN',\n",
       "  'SETTING',\n",
       "  'PATIENTS',\n",
       "  'MAIN OUTCOME MEASURES',\n",
       "  'RESULTS'],\n",
       " 'meshes': ['Anxiety',\n",
       "  'Cohort Studies',\n",
       "  'Confidence Intervals',\n",
       "  'Estrogen Replacement Therapy',\n",
       "  'Female',\n",
       "  'Health Status',\n",
       "  'Hot Flashes',\n",
       "  'Humans',\n",
       "  'Menopause',\n",
       "  'Middle Aged',\n",
       "  'Naturopathy',\n",
       "  'Odds Ratio',\n",
       "  'Patient Satisfaction',\n",
       "  'Retrospective Studies',\n",
       "  'Risk Factors',\n",
       "  'Severity of Illness Index',\n",
       "  'Sleep Initiation and Maintenance Disorders',\n",
       "  'Surveys and Questionnaires',\n",
       "  'Time Factors',\n",
       "  'Urinary Incontinence',\n",
       "  'Vaginal Diseases',\n",
       "  'Washington']}"
      ]
     },
     "execution_count": 16,
     "metadata": {},
     "output_type": "execute_result"
    }
   ],
   "source": [
    "df_unlabelled['context'][0]"
   ]
  },
  {
   "cell_type": "code",
   "execution_count": 17,
   "metadata": {},
   "outputs": [],
   "source": [
    "df_unlabelled['labelled'] = \"No\""
   ]
  },
  {
   "cell_type": "code",
   "execution_count": 18,
   "metadata": {},
   "outputs": [
    {
     "data": {
      "text/plain": [
       "(61249, 5)"
      ]
     },
     "execution_count": 18,
     "metadata": {},
     "output_type": "execute_result"
    }
   ],
   "source": [
    "df_unlabelled.shape"
   ]
  },
  {
   "cell_type": "code",
   "execution_count": 19,
   "metadata": {},
   "outputs": [
    {
     "data": {
      "text/plain": [
       "(1000, 8)"
      ]
     },
     "execution_count": 19,
     "metadata": {},
     "output_type": "execute_result"
    }
   ],
   "source": [
    "df_train.shape"
   ]
  },
  {
   "cell_type": "code",
   "execution_count": 20,
   "metadata": {},
   "outputs": [
    {
     "data": {
      "text/plain": [
       "3"
      ]
     },
     "execution_count": 20,
     "metadata": {},
     "output_type": "execute_result"
    }
   ],
   "source": [
    "len(df_unlabelled['context'][2]['contexts'])"
   ]
  }
 ],
 "metadata": {
  "kernelspec": {
   "display_name": "magma-juniper",
   "language": "python",
   "name": "python3"
  },
  "language_info": {
   "codemirror_mode": {
    "name": "ipython",
    "version": 3
   },
   "file_extension": ".py",
   "mimetype": "text/x-python",
   "name": "python",
   "nbconvert_exporter": "python",
   "pygments_lexer": "ipython3",
   "version": "3.10.14"
  }
 },
 "nbformat": 4,
 "nbformat_minor": 2
}
