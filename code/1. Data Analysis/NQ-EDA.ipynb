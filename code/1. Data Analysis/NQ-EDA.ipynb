{
 "cells": [
  {
   "cell_type": "markdown",
   "metadata": {},
   "source": [
    "### NQ Data Analysis\n",
    "This notebook is focused on exploratory data analysis (EDA) of the NQ (Natural Questions) dataset. The workflow includes:\n",
    "\n",
    "- Loading a large JSONL corpus into a pandas DataFrame.\n",
    "- Displaying basic dataset information such as shape, column types, and sample records.\n",
    "- Analyzing the distribution and frequency of document titles.\n",
    "- Checking for missing values and basic statistics on text length.\n",
    "- Visualizing the distribution of text lengths.\n",
    "\n",
    "**Dataset Details:**\n",
    "- Source file: `/data/NQ/nq/corpus.jsonl`\n",
    "- Number of records: 2,681,468\n",
    "- Main columns: `_id`, `title`, `text`, `metadata`, `text_length`\n",
    "- The dataset contains Wikipedia-like articles, each with a unique ID, title, and text content.\n",
    "\n",
    "**User Goals:**\n",
    "- Understand the structure and content of the NQ dataset.\n",
    "- Identify patterns and potential issues (e.g., missing data, outliers).\n",
    "- Prepare the data for further enrichment or downstream tasks.\n",
    "\n",
    "This notebook is suitable for users interested in large-scale text data analysis, especially in the context of question answering or information retrieval tasks."
   ]
  },
  {
   "cell_type": "code",
   "execution_count": 1,
   "metadata": {},
   "outputs": [],
   "source": [
    "import pandas as pd\n",
    "import json"
   ]
  },
  {
   "cell_type": "code",
   "execution_count": 2,
   "metadata": {},
   "outputs": [],
   "source": [
    "file_path = \"/home/magma/Abhilasha/Meta_Data_Enrichment/data/NQ/nq/corpus.jsonl\"\n",
    "data = [json.loads(line) for line in open(file_path, \"r\", encoding=\"utf-8\")]\n",
    "df = pd.DataFrame(data)"
   ]
  },
  {
   "cell_type": "code",
   "execution_count": 3,
   "metadata": {},
   "outputs": [],
   "source": [
    "pd.set_option('max_colwidth', 800)"
   ]
  },
  {
   "cell_type": "code",
   "execution_count": 4,
   "metadata": {},
   "outputs": [
    {
     "data": {
      "text/html": [
       "<div>\n",
       "<style scoped>\n",
       "    .dataframe tbody tr th:only-of-type {\n",
       "        vertical-align: middle;\n",
       "    }\n",
       "\n",
       "    .dataframe tbody tr th {\n",
       "        vertical-align: top;\n",
       "    }\n",
       "\n",
       "    .dataframe thead th {\n",
       "        text-align: right;\n",
       "    }\n",
       "</style>\n",
       "<table border=\"1\" class=\"dataframe\">\n",
       "  <thead>\n",
       "    <tr style=\"text-align: right;\">\n",
       "      <th></th>\n",
       "      <th>_id</th>\n",
       "      <th>title</th>\n",
       "      <th>text</th>\n",
       "      <th>metadata</th>\n",
       "    </tr>\n",
       "  </thead>\n",
       "  <tbody>\n",
       "    <tr>\n",
       "      <th>0</th>\n",
       "      <td>doc0</td>\n",
       "      <td>Minority interest</td>\n",
       "      <td>In accounting, minority interest (or non-controlling interest) is the portion of a subsidiary corporation's stock that is not owned by the parent corporation. The magnitude of the minority interest in the subsidiary company is generally less than 50% of outstanding shares, or the corporation would generally cease to be a subsidiary of the parent.[1]</td>\n",
       "      <td>{}</td>\n",
       "    </tr>\n",
       "    <tr>\n",
       "      <th>1</th>\n",
       "      <td>doc1</td>\n",
       "      <td>Minority interest</td>\n",
       "      <td>It is, however, possible (such as through special voting rights) for a controlling interest requiring consolidation to be achieved without exceeding 50% ownership, depending on the accounting standards being employed. Minority interest belongs to other investors and is reported on the consolidated balance sheet of the owning company to reflect the claim on assets belonging to other, non-controlling shareholders. Also, minority interest is reported on the consolidated income statement as a share of profit belonging to minority shareholders.</td>\n",
       "      <td>{}</td>\n",
       "    </tr>\n",
       "    <tr>\n",
       "      <th>2</th>\n",
       "      <td>doc2</td>\n",
       "      <td>Minority interest</td>\n",
       "      <td>The reporting of 'minority interest' is a consequence of the requirement by accounting standards to 'fully' consolidate partly owned subsidiaries. Full consolidation, as opposed to partial consolidation, results in financial statements that are constructed as if the parent corporation fully owns these partly owned subsidiaries; except for two line items that reflect partial ownership of subsidiaries: net income to common shareholders and common equity. The two minority interest line items are the net difference between what would have been the common equity and net income to common, if all subsidiaries were fully owned, and the actual ownership of the group. All the other line items in the financial statements assume a fictitious 100% ownership.</td>\n",
       "      <td>{}</td>\n",
       "    </tr>\n",
       "    <tr>\n",
       "      <th>3</th>\n",
       "      <td>doc3</td>\n",
       "      <td>Minority interest</td>\n",
       "      <td>Some investors have expressed concern that the minority interest line items cause significant uncertainty for the assessment of value, leverage and liquidity.[2] A key concern of investors is that they cannot be sure what part of the reported cash position is owned by a 100% subsidiary and what part is owned by a 51% subsidiary.</td>\n",
       "      <td>{}</td>\n",
       "    </tr>\n",
       "    <tr>\n",
       "      <th>4</th>\n",
       "      <td>doc4</td>\n",
       "      <td>Minority interest</td>\n",
       "      <td>Minority interest is an integral part of the enterprise value of a company. The converse concept is an associate company.</td>\n",
       "      <td>{}</td>\n",
       "    </tr>\n",
       "  </tbody>\n",
       "</table>\n",
       "</div>"
      ],
      "text/plain": [
       "    _id              title  \\\n",
       "0  doc0  Minority interest   \n",
       "1  doc1  Minority interest   \n",
       "2  doc2  Minority interest   \n",
       "3  doc3  Minority interest   \n",
       "4  doc4  Minority interest   \n",
       "\n",
       "                                                                                                                                                                                                                                                                                                                                                                                                                                                                                                                                                                                                                                                                                                                                                                                  text  \\\n",
       "0                                                                                                                                                                                                                                                                                                                                                                                                                      In accounting, minority interest (or non-controlling interest) is the portion of a subsidiary corporation's stock that is not owned by the parent corporation. The magnitude of the minority interest in the subsidiary company is generally less than 50% of outstanding shares, or the corporation would generally cease to be a subsidiary of the parent.[1]   \n",
       "1                                                                                                                                                                                                                    It is, however, possible (such as through special voting rights) for a controlling interest requiring consolidation to be achieved without exceeding 50% ownership, depending on the accounting standards being employed. Minority interest belongs to other investors and is reported on the consolidated balance sheet of the owning company to reflect the claim on assets belonging to other, non-controlling shareholders. Also, minority interest is reported on the consolidated income statement as a share of profit belonging to minority shareholders.   \n",
       "2  The reporting of 'minority interest' is a consequence of the requirement by accounting standards to 'fully' consolidate partly owned subsidiaries. Full consolidation, as opposed to partial consolidation, results in financial statements that are constructed as if the parent corporation fully owns these partly owned subsidiaries; except for two line items that reflect partial ownership of subsidiaries: net income to common shareholders and common equity. The two minority interest line items are the net difference between what would have been the common equity and net income to common, if all subsidiaries were fully owned, and the actual ownership of the group. All the other line items in the financial statements assume a fictitious 100% ownership.   \n",
       "3                                                                                                                                                                                                                                                                                                                                                                                                                                           Some investors have expressed concern that the minority interest line items cause significant uncertainty for the assessment of value, leverage and liquidity.[2] A key concern of investors is that they cannot be sure what part of the reported cash position is owned by a 100% subsidiary and what part is owned by a 51% subsidiary.   \n",
       "4                                                                                                                                                                                                                                                                                                                                                                                                                                                                                                                                                                                                                                                            Minority interest is an integral part of the enterprise value of a company. The converse concept is an associate company.   \n",
       "\n",
       "  metadata  \n",
       "0       {}  \n",
       "1       {}  \n",
       "2       {}  \n",
       "3       {}  \n",
       "4       {}  "
      ]
     },
     "execution_count": 4,
     "metadata": {},
     "output_type": "execute_result"
    }
   ],
   "source": [
    "df.head()"
   ]
  },
  {
   "cell_type": "code",
   "execution_count": 5,
   "metadata": {},
   "outputs": [
    {
     "name": "stdout",
     "output_type": "stream",
     "text": [
      "Total NQ dataset 2681468\n"
     ]
    }
   ],
   "source": [
    "print(\"Total NQ dataset\",len(df))"
   ]
  },
  {
   "cell_type": "code",
   "execution_count": 6,
   "metadata": {},
   "outputs": [
    {
     "name": "stdout",
     "output_type": "stream",
     "text": [
      "<class 'pandas.core.frame.DataFrame'>\n",
      "RangeIndex: 2681468 entries, 0 to 2681467\n",
      "Data columns (total 4 columns):\n",
      " #   Column    Dtype \n",
      "---  ------    ----- \n",
      " 0   _id       object\n",
      " 1   title     object\n",
      " 2   text      object\n",
      " 3   metadata  object\n",
      "dtypes: object(4)\n",
      "memory usage: 81.8+ MB\n",
      "Number of unique titles: 108593\n"
     ]
    }
   ],
   "source": [
    "df.info()\n",
    "\n",
    "# Show the number of unique titles in the dataset\n",
    "print(\"Number of unique titles:\", df['title'].nunique())\n"
   ]
  },
  {
   "cell_type": "code",
   "execution_count": 7,
   "metadata": {},
   "outputs": [
    {
     "name": "stdout",
     "output_type": "stream",
     "text": [
      "title\n",
      "List of Pump It Up songs                      1137\n",
      "Distinctive unit insignia                      989\n",
      "South African labour law                       946\n",
      "List of Yo-kai Watch characters                731\n",
      "Winning streak (sports)                        663\n",
      "List of Crayon Shin-chan episodes              641\n",
      "Services under Right to Service Act Punjab     610\n",
      "Criminal procedure in South Africa             580\n",
      "History of painting                            535\n",
      "Timeline of labor issues and events            510\n",
      "Name: count, dtype: int64\n"
     ]
    }
   ],
   "source": [
    "# Display the top 10 most frequent titles\n",
    "print(df['title'].value_counts().head(10))"
   ]
  },
  {
   "cell_type": "code",
   "execution_count": 8,
   "metadata": {},
   "outputs": [
    {
     "name": "stdout",
     "output_type": "stream",
     "text": [
      "_id         0\n",
      "title       0\n",
      "text        0\n",
      "metadata    0\n",
      "dtype: int64\n"
     ]
    }
   ],
   "source": [
    "# Check for missing values in each column\n",
    "print(df.isnull().sum())"
   ]
  },
  {
   "cell_type": "code",
   "execution_count": 9,
   "metadata": {},
   "outputs": [
    {
     "name": "stdout",
     "output_type": "stream",
     "text": [
      "count    2.681468e+06\n",
      "mean     4.721103e+02\n",
      "std      3.599706e+02\n",
      "min      0.000000e+00\n",
      "25%      2.090000e+02\n",
      "50%      4.030000e+02\n",
      "75%      6.480000e+02\n",
      "max      1.697500e+04\n",
      "Name: text_length, dtype: float64\n"
     ]
    },
    {
     "data": {
      "image/png": "[encoded data removed]",
      "text/plain": [
       "<Figure size 1000x500 with 1 Axes>"
      ]
     },
     "metadata": {},
     "output_type": "display_data"
    }
   ],
   "source": [
    "# Show basic statistics about the length of the 'text' field\n",
    "df['text_length'] = df['text'].str.len()\n",
    "print(df['text_length'].describe())\n",
    "\n",
    "# Plot the distribution of text lengths\n",
    "import matplotlib.pyplot as plt\n",
    "df['text_length'].hist(bins=50, figsize=(10,5))\n",
    "plt.xlabel('Text Length')\n",
    "plt.ylabel('Frequency')\n",
    "plt.title('Distribution of Text Lengths')\n",
    "plt.show()"
   ]
  }
 ],
 "metadata": {
  "kernelspec": {
   "display_name": "magma-juniper",
   "language": "python",
   "name": "python3"
  },
  "language_info": {
   "codemirror_mode": {
    "name": "ipython",
    "version": 3
   },
   "file_extension": ".py",
   "mimetype": "text/x-python",
   "name": "python",
   "nbconvert_exporter": "python",
   "pygments_lexer": "ipython3",
   "version": "3.10.14"
  }
 },
 "nbformat": 4,
 "nbformat_minor": 2
}
